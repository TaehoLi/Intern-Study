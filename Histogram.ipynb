{
 "cells": [
  {
   "cell_type": "markdown",
   "metadata": {},
   "source": [
    "## 1. Calculation"
   ]
  },
  {
   "cell_type": "code",
   "execution_count": 1,
   "metadata": {},
   "outputs": [
    {
     "name": "stdout",
     "output_type": "stream",
     "text": [
      "[[1 2 2 1 0 3 7 3]\n",
      " [3 0 7 4 0 2 2 4]\n",
      " [3 4 3 7 2 6 6 7]\n",
      " [2 6 6 2 2 7 4 6]\n",
      " [5 4 7 4 4 4 5 3]\n",
      " [5 1 7 4 3 3 5 7]\n",
      " [0 4 2 2 7 7 0 3]\n",
      " [4 2 1 2 6 4 4 6]]\n"
     ]
    },
    {
     "data": {
      "image/png": "[encoded data removed]",
      "text/plain": [
       "<Figure size 432x288 with 1 Axes>"
      ]
     },
     "metadata": {
      "needs_background": "light"
     },
     "output_type": "display_data"
    }
   ],
   "source": [
    "import numpy as np\n",
    "import matplotlib.pyplot as plt\n",
    "%matplotlib inline\n",
    "\n",
    "np.random.seed(123456)\n",
    "img = np.random.randint(0,8,size=(8,8))\n",
    "print(img)\n",
    "intensity, count = np.unique(img, return_counts=True)\n",
    "ys, xs, patches = plt.hist(intensity, bins=len(intensity), weights=count, edgecolor='black')\n",
    "plt.xticks(np.arange(8))\n",
    "plt.yticks(np.arange(20,step=2))\n",
    "plt.show()"
   ]
  },
  {
   "cell_type": "markdown",
   "metadata": {},
   "source": [
    "## 2. histogram equalization"
   ]
  },
  {
   "cell_type": "markdown",
   "metadata": {},
   "source": [
    "h(i) = (Gmax / Nt) * H(i)  \n",
    "h(i): 정규화합 히스토그램  \n",
    "Gmax: 영상의 최대 밝기값  \n",
    "Nt: 픽셀 수  \n",
    "H(i): 누적합 히스토그램"
   ]
  },
  {
   "cell_type": "code",
   "execution_count": 2,
   "metadata": {},
   "outputs": [
    {
     "data": {
      "text/html": [
       "<div>\n",
       "<style scoped>\n",
       "    .dataframe tbody tr th:only-of-type {\n",
       "        vertical-align: middle;\n",
       "    }\n",
       "\n",
       "    .dataframe tbody tr th {\n",
       "        vertical-align: top;\n",
       "    }\n",
       "\n",
       "    .dataframe thead th {\n",
       "        text-align: right;\n",
       "    }\n",
       "</style>\n",
       "<table border=\"1\" class=\"dataframe\">\n",
       "  <thead>\n",
       "    <tr style=\"text-align: right;\">\n",
       "      <th></th>\n",
       "      <th>밝기</th>\n",
       "      <th>누적합</th>\n",
       "      <th>정규화합</th>\n",
       "      <th>반올림값</th>\n",
       "    </tr>\n",
       "  </thead>\n",
       "  <tbody>\n",
       "    <tr>\n",
       "      <td>0</td>\n",
       "      <td>0.0</td>\n",
       "      <td>5.0</td>\n",
       "      <td>0.546875</td>\n",
       "      <td>1.0</td>\n",
       "    </tr>\n",
       "    <tr>\n",
       "      <td>1</td>\n",
       "      <td>1.0</td>\n",
       "      <td>9.0</td>\n",
       "      <td>0.984375</td>\n",
       "      <td>1.0</td>\n",
       "    </tr>\n",
       "    <tr>\n",
       "      <td>2</td>\n",
       "      <td>2.0</td>\n",
       "      <td>21.0</td>\n",
       "      <td>2.296875</td>\n",
       "      <td>2.0</td>\n",
       "    </tr>\n",
       "    <tr>\n",
       "      <td>3</td>\n",
       "      <td>3.0</td>\n",
       "      <td>30.0</td>\n",
       "      <td>3.281250</td>\n",
       "      <td>3.0</td>\n",
       "    </tr>\n",
       "    <tr>\n",
       "      <td>4</td>\n",
       "      <td>4.0</td>\n",
       "      <td>43.0</td>\n",
       "      <td>4.703125</td>\n",
       "      <td>5.0</td>\n",
       "    </tr>\n",
       "    <tr>\n",
       "      <td>5</td>\n",
       "      <td>5.0</td>\n",
       "      <td>47.0</td>\n",
       "      <td>5.140625</td>\n",
       "      <td>5.0</td>\n",
       "    </tr>\n",
       "    <tr>\n",
       "      <td>6</td>\n",
       "      <td>6.0</td>\n",
       "      <td>54.0</td>\n",
       "      <td>5.906250</td>\n",
       "      <td>6.0</td>\n",
       "    </tr>\n",
       "    <tr>\n",
       "      <td>7</td>\n",
       "      <td>7.0</td>\n",
       "      <td>64.0</td>\n",
       "      <td>7.000000</td>\n",
       "      <td>7.0</td>\n",
       "    </tr>\n",
       "  </tbody>\n",
       "</table>\n",
       "</div>"
      ],
      "text/plain": [
       "    밝기   누적합      정규화합  반올림값\n",
       "0  0.0   5.0  0.546875   1.0\n",
       "1  1.0   9.0  0.984375   1.0\n",
       "2  2.0  21.0  2.296875   2.0\n",
       "3  3.0  30.0  3.281250   3.0\n",
       "4  4.0  43.0  4.703125   5.0\n",
       "5  5.0  47.0  5.140625   5.0\n",
       "6  6.0  54.0  5.906250   6.0\n",
       "7  7.0  64.0  7.000000   7.0"
      ]
     },
     "execution_count": 2,
     "metadata": {},
     "output_type": "execute_result"
    }
   ],
   "source": [
    "import pandas as pd\n",
    "\n",
    "Gmax = intensity.max()\n",
    "Nt = img.shape[0] * img.shape[1]\n",
    "H, xs, patches = plt.hist(intensity, bins=len(intensity), weights=count, edgecolor='black', cumulative='True')\n",
    "plt.close()\n",
    "n_sum = H * (Gmax/Nt)\n",
    "rd = np.round(n_sum)\n",
    "\n",
    "data = []\n",
    "data.append(intensity)\n",
    "data.append(H)\n",
    "data.append(n_sum)\n",
    "data.append(rd)\n",
    "\n",
    "df = pd.DataFrame(np.array(data).T, columns=['밝기','누적합','정규화합','반올림값'], index=None)\n",
    "df"
   ]
  },
  {
   "cell_type": "code",
   "execution_count": 3,
   "metadata": {},
   "outputs": [
    {
     "name": "stdout",
     "output_type": "stream",
     "text": [
      "[[1 2 2 1 0 3 7 3]\n",
      " [3 0 7 4 0 2 2 4]\n",
      " [3 4 3 7 2 6 6 7]\n",
      " [2 6 6 2 2 7 4 6]\n",
      " [5 4 7 4 4 4 5 3]\n",
      " [5 1 7 4 3 3 5 7]\n",
      " [0 4 2 2 7 7 0 3]\n",
      " [4 2 1 2 6 4 4 6]]\n",
      "\n",
      "[[1 2 2 1 1 3 7 3]\n",
      " [3 1 7 5 1 2 2 5]\n",
      " [3 5 3 7 2 6 6 7]\n",
      " [2 6 6 2 2 7 5 6]\n",
      " [5 5 7 5 5 5 5 3]\n",
      " [5 1 7 5 3 3 5 7]\n",
      " [1 5 2 2 7 7 1 3]\n",
      " [5 2 1 2 6 5 5 6]]\n"
     ]
    },
    {
     "data": {
      "image/png": "[encoded data removed]",
      "text/plain": [
       "<Figure size 432x288 with 1 Axes>"
      ]
     },
     "metadata": {
      "needs_background": "light"
     },
     "output_type": "display_data"
    }
   ],
   "source": [
    "print(img)\n",
    "dic = {}\n",
    "for i in range(len(intensity)):\n",
    "    dic[i] = np.where(img==i) #행과열\n",
    "#print(dic)\n",
    "print()\n",
    "for x in range(len(intensity)):\n",
    "    if intensity[x] != rd[x]:\n",
    "        for y in range(len(dic[x][0])):\n",
    "            img[dic[x][0][y],dic[x][1][y]] = rd[x]\n",
    "            \n",
    "print(img)\n",
    "\n",
    "index, count = np.unique(img, return_counts=True)\n",
    "ys, xs, patches = plt.hist(index, bins=len(intensity)-1, weights=count, edgecolor='black')\n",
    "plt.xticks(np.arange(8))\n",
    "plt.yticks(np.arange(20,step=2))\n",
    "plt.show()"
   ]
  },
  {
   "cell_type": "code",
   "execution_count": null,
   "metadata": {},
   "outputs": [],
   "source": []
  }
 ],
 "metadata": {
  "kernelspec": {
   "display_name": "Python 3",
   "language": "python",
   "name": "python3"
  },
  "language_info": {
   "codemirror_mode": {
    "name": "ipython",
    "version": 3
   },
   "file_extension": ".py",
   "mimetype": "text/x-python",
   "name": "python",
   "nbconvert_exporter": "python",
   "pygments_lexer": "ipython3",
   "version": "3.7.4"
  }
 },
 "nbformat": 4,
 "nbformat_minor": 4
}
