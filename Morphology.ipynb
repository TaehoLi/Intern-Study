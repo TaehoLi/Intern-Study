{
 "cells": [
  {
   "cell_type": "code",
   "execution_count": 1,
   "metadata": {},
   "outputs": [],
   "source": [
    "import cv2\n",
    "import numpy as np\n",
    " \n",
    "# 이미지 읽어오기\n",
    "img = cv2.imread('./data/fruit.jpg')\n",
    "# 이미지 크기 변환\n",
    "img = cv2.resize(img, None, fx=0.7, fy=0.7, interpolation=cv2.INTER_AREA)\n",
    "# 커널 생성\n",
    "kernel = np.ones((5,5),np.uint8)\n",
    "# para1 : 이미지, para2 : 커널, para3 : erode 반복 횟수\n",
    "erode = cv2.erode(img,kernel,iterations = 1)\n",
    "# para1 : 이미지, para2 : 커널, para3 : dilate 반복 횟수\n",
    "dilate = cv2.dilate(img,kernel,iterations = 1)\n",
    " \n",
    "#결과 보기\n",
    "cv2.imshow(\"original\",img)\n",
    "cv2.imshow(\"erode\",erode)\n",
    "cv2.imshow(\"dilate\",dilate)\n",
    " \n",
    "cv2.waitKey(0)\n",
    "cv2.destroyAllWindows()"
   ]
  },
  {
   "cell_type": "code",
   "execution_count": 3,
   "metadata": {},
   "outputs": [],
   "source": [
    "import cv2\n",
    "import numpy as np\n",
    " \n",
    "# 이미지 읽어오기\n",
    "img = cv2.imread('./data/ori.jpg')\n",
    "# 이미지 크기 변환\n",
    "img = cv2.resize(img, None, fx=0.7, fy=0.7, interpolation=cv2.INTER_AREA)\n",
    "# 커널 생성\n",
    "kernel = np.ones((11,11),np.uint8)\n",
    "# para1 : 이미지, para2 : 함수 이용, para3 : 커널\n",
    "opening = cv2.morphologyEx(img, cv2.MORPH_OPEN, kernel)\n",
    "# para1 : 이미지, para2 : 함수 이용, para3 : 커널\n",
    "closing = cv2.morphologyEx(img, cv2.MORPH_CLOSE, kernel)\n",
    " \n",
    "#결과 보기\n",
    "cv2.imshow(\"original\",img)\n",
    "cv2.imshow(\"opening.jpg\",opening)\n",
    "cv2.imshow(\"closing.jpg\",closing)\n",
    " \n",
    "cv2.waitKey(0)\n",
    "cv2.destroyAllWindows()"
   ]
  },
  {
   "cell_type": "code",
   "execution_count": null,
   "metadata": {},
   "outputs": [],
   "source": []
  }
 ],
 "metadata": {
  "kernelspec": {
   "display_name": "Python 3",
   "language": "python",
   "name": "python3"
  },
  "language_info": {
   "codemirror_mode": {
    "name": "ipython",
    "version": 3
   },
   "file_extension": ".py",
   "mimetype": "text/x-python",
   "name": "python",
   "nbconvert_exporter": "python",
   "pygments_lexer": "ipython3",
   "version": "3.7.4"
  }
 },
 "nbformat": 4,
 "nbformat_minor": 4
}
