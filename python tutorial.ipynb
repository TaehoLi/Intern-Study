{
 "cells": [
  {
   "cell_type": "markdown",
   "metadata": {},
   "source": [
    "## Importing Package"
   ]
  },
  {
   "cell_type": "markdown",
   "metadata": {},
   "source": [
    "C에서의 #include<stdio.h>와 같은 여러가지 라이브러리들을 import"
   ]
  },
  {
   "cell_type": "code",
   "execution_count": 1,
   "metadata": {},
   "outputs": [],
   "source": [
    "import numpy as np\n",
    "import torch\n",
    "import math"
   ]
  },
  {
   "cell_type": "code",
   "execution_count": 2,
   "metadata": {},
   "outputs": [
    {
     "name": "stdout",
     "output_type": "stream",
     "text": [
      "[[ 1.63872231 -0.17176227  0.82829741]\n",
      " [ 0.11486575 -1.32280682 -1.22961013]\n",
      " [-0.52809656  0.34926543 -0.02602506]\n",
      " [-1.43461251 -1.28615104 -0.32065545]\n",
      " [-1.98127809  0.59429031 -0.26278051]]\n"
     ]
    }
   ],
   "source": [
    "print(np.random.randn(5,3))"
   ]
  },
  {
   "cell_type": "code",
   "execution_count": 3,
   "metadata": {},
   "outputs": [
    {
     "name": "stdout",
     "output_type": "stream",
     "text": [
      "tensor([[ 6.3677e-04, -9.9930e-01, -2.5965e-01,  2.5369e+00],\n",
      "        [ 3.6922e-01, -5.9677e-01, -4.8176e-01,  1.2616e+00],\n",
      "        [ 3.6918e-01, -1.0411e-02,  1.3092e+00,  1.3178e+00],\n",
      "        [-3.1013e-01, -1.1829e+00, -1.7153e+00,  1.5253e+00],\n",
      "        [-8.4905e-01,  5.9478e-01,  4.1235e-01,  1.3486e+00]])\n"
     ]
    }
   ],
   "source": [
    "print(torch.randn(5,4))"
   ]
  },
  {
   "cell_type": "code",
   "execution_count": 4,
   "metadata": {},
   "outputs": [
    {
     "name": "stdout",
     "output_type": "stream",
     "text": [
      "1.4142135623730951\n"
     ]
    }
   ],
   "source": [
    "print(math.sqrt(2))"
   ]
  },
  {
   "cell_type": "code",
   "execution_count": 5,
   "metadata": {},
   "outputs": [
    {
     "name": "stdout",
     "output_type": "stream",
     "text": [
      "[[ 0.39007442  0.21570073 -0.24399231]\n",
      " [ 0.6948951  -0.56059659  0.11597871]\n",
      " [-1.07622769 -0.96963622  0.52051179]\n",
      " [-0.21439544 -1.23068883 -0.76373632]\n",
      " [ 1.64868725  0.19244408  1.11762184]]\n"
     ]
    }
   ],
   "source": [
    "from numpy import random as nr\n",
    "print(nr.randn(5,3))"
   ]
  },
  {
   "cell_type": "markdown",
   "metadata": {},
   "source": [
    "## Data type: 자료형"
   ]
  },
  {
   "cell_type": "markdown",
   "metadata": {},
   "source": [
    "python에는 숫자형/문자열/리스트/튜플/딕셔너리/집합/bool 이 있다."
   ]
  },
  {
   "cell_type": "markdown",
   "metadata": {},
   "source": [
    "### 숫자형"
   ]
  },
  {
   "cell_type": "code",
   "execution_count": 6,
   "metadata": {},
   "outputs": [
    {
     "name": "stdout",
     "output_type": "stream",
     "text": [
      "123\n",
      "<class 'int'>\n",
      "-1.23\n",
      "<class 'float'>\n",
      "12300.0\n",
      "<class 'float'>\n",
      "123.0\n",
      "<class 'float'>\n"
     ]
    }
   ],
   "source": [
    "num1 = 123\n",
    "print(num1)\n",
    "print(type(num1))\n",
    "\n",
    "num2 = -1.23\n",
    "print(num2)\n",
    "print(type(num2))\n",
    "\n",
    "num3 = 1.23e4\n",
    "print(num3)\n",
    "print(type(num3))\n",
    "\n",
    "num4 = float(num1)\n",
    "print(num4)\n",
    "print(type(num4))"
   ]
  },
  {
   "cell_type": "markdown",
   "metadata": {},
   "source": [
    "숫자형에는 크게 두 가지 타입이 존재  \n",
    "int는 정수를 다루는 타입이고, float는 실수를 다루는 타입"
   ]
  },
  {
   "cell_type": "markdown",
   "metadata": {},
   "source": [
    "### 사칙연산"
   ]
  },
  {
   "cell_type": "markdown",
   "metadata": {},
   "source": [
    "제곱연산 **과 나머지 반환 %, 몫 반환 //를 지원"
   ]
  },
  {
   "cell_type": "code",
   "execution_count": null,
   "metadata": {},
   "outputs": [],
   "source": []
  },
  {
   "cell_type": "code",
   "execution_count": 7,
   "metadata": {},
   "outputs": [
    {
     "name": "stdout",
     "output_type": "stream",
     "text": [
      "[1, 7, 3]\n",
      "[1]\n"
     ]
    }
   ],
   "source": [
    "a = [1,2,3]\n",
    "a[1] = 7\n",
    "print(a)\n",
    "del a[1:]\n",
    "print(a)"
   ]
  },
  {
   "cell_type": "code",
   "execution_count": 8,
   "metadata": {},
   "outputs": [
    {
     "name": "stdout",
     "output_type": "stream",
     "text": [
      "[1, 2]\n",
      "[2, 1]\n",
      "[1, 2]\n"
     ]
    }
   ],
   "source": [
    "a = [1]\n",
    "b = [2]\n",
    "print(a + b)\n",
    "\n",
    "c = []\n",
    "c.append(2)\n",
    "c.append(1)\n",
    "print(c)\n",
    "c.sort()\n",
    "print(c)"
   ]
  },
  {
   "cell_type": "code",
   "execution_count": 9,
   "metadata": {},
   "outputs": [
    {
     "name": "stdout",
     "output_type": "stream",
     "text": [
      "[11, 12, 7, 13, 14, 15, 16, 17, 18, 19]\n",
      "[10, 11, 12, 7, 13, 14, 15, 16, 17, 18, 19]\n",
      "[10, 11, 12, 13, 14, 15, 16, 17, 18, 19]\n",
      "19\n",
      "[10, 11, 12, 13, 14, 15, 16, 17, 18]\n",
      "1\n",
      "0\n"
     ]
    }
   ],
   "source": [
    "a = [11,12,13,14,15,16,17,18,19]\n",
    "a.insert(2,7)\n",
    "print(a)\n",
    "a.insert(0,10)\n",
    "print(a)\n",
    "a.remove(7)\n",
    "print(a)\n",
    "print(a.pop())\n",
    "print(a)\n",
    "print(a.count(11))\n",
    "print(a.count(19))"
   ]
  },
  {
   "cell_type": "code",
   "execution_count": 10,
   "metadata": {},
   "outputs": [
    {
     "name": "stdout",
     "output_type": "stream",
     "text": [
      "{2: 'abc', 'a': 'abcd', 0: [1, 2, 3, 4]}\n",
      "False\n",
      "True\n",
      "{'a': 'abcd', 0: [1, 2, 3, 4]}\n",
      "[1, 2, 3, 4]\n",
      "[1, 2, 3, 4]\n",
      "abcd\n",
      "abcd\n",
      "None\n"
     ]
    }
   ],
   "source": [
    "a = {}\n",
    "a[2] = 'abc'\n",
    "a['a'] = 'abcd'\n",
    "a[0] = [1,2,3,4]\n",
    "print(a)\n",
    "\n",
    "print(1 in a)\n",
    "print(2 in a)\n",
    "del a[2]\n",
    "print(a)\n",
    "print(a[0])\n",
    "print(a.get(0))\n",
    "print(a['a'])\n",
    "print(a.get('a'))\n",
    "print(a.get(2))\n",
    "#print(a[2])"
   ]
  },
  {
   "cell_type": "code",
   "execution_count": 11,
   "metadata": {},
   "outputs": [
    {
     "name": "stdout",
     "output_type": "stream",
     "text": [
      "{'a': 2}\n"
     ]
    }
   ],
   "source": [
    "a = {'a':1, 'a':2}\n",
    "print(a)"
   ]
  },
  {
   "cell_type": "code",
   "execution_count": null,
   "metadata": {},
   "outputs": [],
   "source": []
  },
  {
   "cell_type": "code",
   "execution_count": 12,
   "metadata": {},
   "outputs": [
    {
     "data": {
      "image/png": "[encoded data removed]",
      "text/plain": [
       "<Figure size 432x288 with 1 Axes>"
      ]
     },
     "metadata": {
      "needs_background": "light"
     },
     "output_type": "display_data"
    }
   ],
   "source": [
    "%matplotlib inline\n",
    "import matplotlib.pyplot as plt\n",
    "\n",
    "def quadratic_formula_plot(from_, to_, a,b,c):\n",
    "    x = np.arange(from_,to_,0.1)\n",
    "    y = []\n",
    "    for tempx in x:\n",
    "        tempy = a*tempx**2 + b*tempx + c\n",
    "        y.append(tempy)\n",
    "    plt.plot(x,y)\n",
    "    plt.show()\n",
    "    \n",
    "quadratic_formula_plot(-1,1,3,2,2)"
   ]
  },
  {
   "cell_type": "code",
   "execution_count": null,
   "metadata": {},
   "outputs": [],
   "source": []
  }
 ],
 "metadata": {
  "kernelspec": {
   "display_name": "Python 3",
   "language": "python",
   "name": "python3"
  },
  "language_info": {
   "codemirror_mode": {
    "name": "ipython",
    "version": 3
   },
   "file_extension": ".py",
   "mimetype": "text/x-python",
   "name": "python",
   "nbconvert_exporter": "python",
   "pygments_lexer": "ipython3",
   "version": "3.7.2"
  }
 },
 "nbformat": 4,
 "nbformat_minor": 4
}
