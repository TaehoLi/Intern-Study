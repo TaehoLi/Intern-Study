{
 "cells": [
  {
   "cell_type": "code",
   "execution_count": 3,
   "metadata": {},
   "outputs": [
    {
     "name": "stdout",
     "output_type": "stream",
     "text": [
      "sigma= 1.4\n"
     ]
    }
   ],
   "source": [
    "import cv2\n",
    "import numpy as np\n",
    "\n",
    "src  = cv2.imread('./data/lena.jfif', cv2.IMREAD_GRAYSCALE)\n",
    "cv2.imshow('src', src)\n",
    "\n",
    "#1\n",
    "def logFilter(ksize=7):\n",
    "    k2 = ksize//2\n",
    "    sigma = 0.3*(k2-1) + 0.8\n",
    "    print('sigma=', sigma)\n",
    "    LoG = np.zeros((ksize, ksize), dtype=np.float32)\n",
    "    for y in range(-k2, k2+1):\n",
    "        for x in range(-k2, k2+1):\n",
    "            g = -(x*x+y*y)/(2.0*sigma**2.0)\n",
    "            LoG[y+k2, x+k2] = -(1.0+g)*np.exp(g)/(np.pi*sigma**4.0)\n",
    "    return LoG\n",
    "\n",
    "#2\n",
    "kernel = logFilter() #7, 15, 31, 51\n",
    "LoG = cv2.filter2D(src, cv2.CV_32F, kernel)\n",
    "cv2.imshow('LoG',  LoG)\n",
    "\n",
    "#3\n",
    "def zeroCrossing2(lap, thresh=0.01):\n",
    "    width, height = lap.shape\n",
    "    Z = np.zeros(lap.shape, dtype=np.uint8)    \n",
    "    for y in range(1, height-1):\n",
    "        for x in range(1,width-1):\n",
    "            neighbors=[lap[y-1,x],   lap[y+1,x],   lap[y,x-1],   lap[y,x+1],\n",
    "                       lap[y-1,x-1], lap[y-1,x+1], lap[y+1,x-1], lap[y+1,x+1]]\n",
    "            pos = 0\n",
    "            neg = 0\n",
    "            for value in neighbors:\n",
    "                if value > thresh:\n",
    "                    pos += 1\n",
    "                if value < -thresh:  # value < thresh\n",
    "                    neg += 1\n",
    "            if pos > 0 and neg > 0:\n",
    "                Z[y, x] = 255                        \n",
    "    return Z\n",
    "\n",
    "edgeZ = zeroCrossing2(LoG)\n",
    "cv2.imshow('Zero Crossing2',  edgeZ)\n",
    "cv2.waitKey()    \n",
    "cv2.destroyAllWindows()"
   ]
  },
  {
   "cell_type": "code",
   "execution_count": null,
   "metadata": {},
   "outputs": [],
   "source": []
  }
 ],
 "metadata": {
  "kernelspec": {
   "display_name": "Python 3",
   "language": "python",
   "name": "python3"
  },
  "language_info": {
   "codemirror_mode": {
    "name": "ipython",
    "version": 3
   },
   "file_extension": ".py",
   "mimetype": "text/x-python",
   "name": "python",
   "nbconvert_exporter": "python",
   "pygments_lexer": "ipython3",
   "version": "3.7.4"
  }
 },
 "nbformat": 4,
 "nbformat_minor": 4
}
